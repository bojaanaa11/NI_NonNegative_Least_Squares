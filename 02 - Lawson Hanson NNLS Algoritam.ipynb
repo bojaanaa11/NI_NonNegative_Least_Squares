{
 "cells": [
  {
   "cell_type": "markdown",
   "id": "eda6d3eb-c753-4993-b079-c8a30ba953f5",
   "metadata": {},
   "source": [
    "### Lawson-Hanson NNLS Algoritam - Metoda aktivnih skupova"
   ]
  },
  {
   "cell_type": "markdown",
   "id": "5712be0c-8818-4099-830f-4a2611ac816d",
   "metadata": {},
   "source": [
    "Metoda aktivnih skupova je efikasna tehnika za rešavanje problema optimizacije sa ograničenjima. \n",
    "Naročito je korisna u problemima koji se mogu modelovati kao minimizacija funkcije uz nejednakosna ograničenja. \n",
    "Koristi princip aktivnih skupova kako bi pronašla optimalna rešenja, fokusirajući se na skup ograničenja koja su \"aktivna\" ili su na granici dozvoljenog prostora rešenja.\n",
    "\n",
    "#### Ključni Koncepti:\n",
    "* Aktivni Skup ($P$): Ovo je skup indeksa promenljivih koje su trenutno deo rešenja. Aktivni skup se stalno menja tokom iteracija kako bi se uključili novi atributi koji mogu poboljšati rešenje.\n",
    "* Neaktivni Skup ($R$): Ovo je skup indeksa promenljivih koje trenutno nisu deo rešenja. Promenljive iz ovog skupa se razmatraju za moguće uključivanje u aktivni skup u sledećim iteracijama.\n",
    "* Gradijent ($w$): Ovaj vektor meri koliko svaka promenljiva doprinosi smanjenju greške ako bi bila uključena u rešenje. Gradijentni vektor pomaže u određivanju koje promenljive treba dodati u aktivni skup.\n",
    "\n",
    "#### Opis Metode:\n",
    "##### Inicijalizacija:\n",
    "* Postavljamo inicijalne vrednosti za aktivni skup $P$, neaktivni skup $R$, i inicijalno rešenje $x$.\n",
    "* Izračunavamo početni gradijentni vektor $w$, koji pokazuje koliko svaka promenljiva doprinosi grešci.\n",
    "##### Dodavanje Varijabli u Aktivni Skup:\n",
    "* Izaberemo promenljivu sa najvećim doprinosom iz neaktivnog skupa $R$ i dodamo je u aktivni skup $P$.\n",
    "* Ova promenljiva se uklonja iz $R$ i dodaje u $P$.\n",
    "##### Rešavanje Problema Metodom Najmanjih Kvadrata:\n",
    "* Koristimo samo promenljive iz aktivnog skupa $P$ za rešavanje problema metodom najmanjih kvadrata. Ovo daje privremeno rešenje $s$.\n",
    "##### Provera i Korekcija:\n",
    "* Proveravamo da li je rešenje nenegativno. Ako nije, korigujemo rešenje tako da se zadovolji uslov pozitivnosti.\n",
    "* Korekcija se vrši pomoću koraka $\\alpha$ koji prilagođava rešenje tako da ne narušava uslove pozitivnosti.\n",
    "##### Ažuriranje i Iteracija:\n",
    "* Ako su sve vrednosti pozitivne, ažuriramo konačno rešenje i gradijentni vektor.\n",
    "* Proces se ponavlja dok ne dođe do konvergencije, tj. dok ne prestane da se menja najveći doprinos u gradijentnom vektoru ili dok ne bude zadovoljena tolerancija $\\epsilon$."
   ]
  },
  {
   "cell_type": "code",
   "execution_count": 1,
   "id": "d827541a-ba6d-4a06-8f3f-912be36db650",
   "metadata": {},
   "outputs": [],
   "source": [
    "import numpy as np\n",
    "import matplotlib.pyplot as plt"
   ]
  },
  {
   "cell_type": "code",
   "execution_count": 15,
   "id": "e562e111-f5f3-4dfa-8f28-41ea5c308222",
   "metadata": {},
   "outputs": [],
   "source": [
    "def active_set_method(A, b, epsilon):\n",
    "    # Inicijalizacija neophodnih promenljvih\n",
    "    m, n = A.shape\n",
    "    P = []                   # Aktivni skup - na kraju ce sadrzati indekse atributa sadrzanih u resenju\n",
    "    R = list(range(n))       # Neaktivni skup - sadrzi indekse atributa koje jos uvek nisu u resenju\n",
    "    x = np.zeros(n)          # Aproksimacija resenja - inicajlno nula - iterativno se izgradjuje\n",
    "    w = A.T @ (b - A @ x)    # Gradijent - meri koliko svaki atribut doprinosi smanjenju greske kada bi bio ukljucen u resenje\n",
    "    \n",
    "    # Sve dok R nije prazan i najveci doprinos je veci od tolerancije \n",
    "    while R and np.max(w[R]) > epsilon:\n",
    "        # Izaberi atribut sa najvecim doprinosom i izbaci ga iz R i dodaj ga u P\n",
    "        j = R[np.argmax(w[R])] \n",
    "        P.append(j)\n",
    "        R.remove(j)\n",
    "\n",
    "        # Resi problem metodom najmanjih kadvrata za matricu restrikovanu na atribute iz aktivnog skupa P\n",
    "        AP = A[:, P]                                   # Restrikovano A\n",
    "        s = np.zeros(n)                                # Tekuca aproksimacija - inicijalno nula\n",
    "        s_P = np.linalg.pinv(AP.T @ AP) @ (AP.T @ b)   # Racunamo resenje problema\n",
    "        s[P] = s_P                                     # Upisujemo resenje u konacnu aproksimaciju\n",
    "\n",
    "        # Provera da li je resenje validno tj da li su sve koordinate vece od 0\n",
    "        while np.min(s[P]) <= 0:\n",
    "            # Ako nisu onda se aproksimacija koriguje\n",
    "\n",
    "            # Racunamo korak alpha koji ce aproksimaciju pribliziti s tako da ne narusava uslov pozitivnosti\n",
    "            alpha = np.min(x[P] / (x[P] - s[P]))\n",
    "            x = x + alpha * (s - x)\n",
    "\n",
    "            # Atributi koji nisu postali nula idu u P \n",
    "            P = [i for i in P if x[i] > 0]\n",
    "            # Oni koji jesu idu u R\n",
    "            R = [i for i in range(n) if i not in P]\n",
    "\n",
    "            # Azuriranja za sledecu iteraciju\n",
    "            AP = A[:, P]\n",
    "            s_P = np.linalg.pinv(AP.T @ AP) @ (AP.T @ b)\n",
    "            s[P] = s_P\n",
    "\n",
    "        # Ako jesu azurira se konacno resenje\n",
    "        x = s  \n",
    "        print(x)\n",
    "\n",
    "        # Azuriramo gradijentni vektor\n",
    "        w = A.T @ (b - A @ x)\n",
    "\n",
    "    return x"
   ]
  },
  {
   "cell_type": "code",
   "execution_count": 13,
   "id": "ed9d6d52-d550-4310-831f-5b667364e6fe",
   "metadata": {},
   "outputs": [],
   "source": [
    "A = np.array([\n",
    " [1.         ,0.        ],\n",
    " [1.         ,0.11111111],\n",
    " [1.         ,0.22222222],\n",
    " [1.         ,0.33333333],\n",
    " [1.         ,0.44444444],\n",
    " [1.         ,0.55555556],\n",
    " [1.         ,0.66666667],\n",
    " [1.         ,0.77777778],\n",
    " [1.         ,0.88888889],\n",
    " [1.         ,1.        ]])"
   ]
  },
  {
   "cell_type": "code",
   "execution_count": 14,
   "id": "5dcdbb33-73b7-4027-bcd3-2494f27730dc",
   "metadata": {},
   "outputs": [],
   "source": [
    "b = [50.024464,   49.88456337, 50.30240876, 50.29985166, 50.54841558, 50.53523403,\n",
    " 50.65963392, 50.81760646, 50.83127725, 51.11296502]"
   ]
  },
  {
   "cell_type": "code",
   "execution_count": 16,
   "id": "e01e79db-860b-4046-ab68-755467787fd0",
   "metadata": {},
   "outputs": [
    {
     "name": "stdout",
     "output_type": "stream",
     "text": [
      "[50.50164201  0.        ]\n",
      "[49.95439673  1.09449054]\n"
     ]
    },
    {
     "data": {
      "text/plain": [
       "array([49.95439673,  1.09449054])"
      ]
     },
     "execution_count": 16,
     "metadata": {},
     "output_type": "execute_result"
    }
   ],
   "source": [
    "active_set_method(A, b, 0.001)"
   ]
  },
  {
   "cell_type": "code",
   "execution_count": null,
   "id": "9ec88091-c36d-41fa-aabc-8637ae24838f",
   "metadata": {},
   "outputs": [],
   "source": []
  }
 ],
 "metadata": {
  "kernelspec": {
   "display_name": "Python 3 (ipykernel)",
   "language": "python",
   "name": "python3"
  },
  "language_info": {
   "codemirror_mode": {
    "name": "ipython",
    "version": 3
   },
   "file_extension": ".py",
   "mimetype": "text/x-python",
   "name": "python",
   "nbconvert_exporter": "python",
   "pygments_lexer": "ipython3",
   "version": "3.10.11"
  }
 },
 "nbformat": 4,
 "nbformat_minor": 5
}
