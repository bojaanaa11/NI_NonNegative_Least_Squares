{
 "cells": [
  {
   "cell_type": "markdown",
   "id": "b109b9d1",
   "metadata": {},
   "source": [
    "# **Ubrzani NNLS algoritam (FNNLS)**\n",
    "\n",
    "<br>\n",
    "<br>\n",
    "\n",
    "\n",
    "Vreme potrebno za kreiranje NNLS modela je obično mnogo duže nego u slučaju kada konstruišemo model bez ograničenja. U određenim primenama efikasnost je od ključne važnosti stoga se pribegava aproksimativnim metodama.\n",
    "\n",
    "<br>\n",
    "\n",
    "**Prva modifikacija** standardnog NNLS algoritma se sastoji u tome kako računamo gradijentni vektor. Umesto $$w=A^T(b-Ax)$$ računaćemo ga kao $$w = (A^Tb) - (A^TA)x$$ Ovo doprinosi \n",
    "- Složenosti izračunavanja: Za matrice velikih dimenzija, jeftinije je izračunati $A^TA$ i $A^Tb$ nego direktno sprovoditi operacije sa matricom $A$ i vektorom $b$, posebno u slučaju kada je $A^TA$ znatno manja od $A$\n",
    "- Numeričkoj stabilnosti\n",
    "\n",
    "<br>\n",
    "<br>\n",
    "\n",
    "**Druga modifikacija** se odnosi na to kako računamo vektor s. Umesto $s^P = [(A^P)^TA^P]^{-1}(A^P)^Tb$, vektor s ćemo računati kao $s^P = [(A^TA)^P]^{-1}(A^Tb)^P$, gde je $(A^TA)^P$ podmatrica od $A^TA$ koja sadrži samo redove i kolone koje odgovaraju skupu $P$ (može se proveriti da su ova dva vektora jednaka). U slučaju kada matrica A ima dosta više redova nego kolona, ovo značajno doprinosi ubrzanju.\n",
    "\n",
    "FNNLS algoritam ažurira skup P i vodi evidenciju o ne-nula elementima rešenja (support vektor) u trenutnoj iteraciji. Često je moguće proceniti support vektor što može dodatno da ubrza ceo proces."
   ]
  },
  {
   "cell_type": "markdown",
   "id": "b475b607",
   "metadata": {},
   "source": [
    "  **FNNLS:**"
   ]
  },
  {
   "cell_type": "code",
   "execution_count": 6,
   "id": "c79f8ef5",
   "metadata": {},
   "outputs": [],
   "source": [
    "import numpy as np\n",
    "def fnnls(A,b,epsilon,P_initial = np.zeros(0, dtype=int)): # Support vektor kao opcioni parametar\n",
    "    m,n = A.shape \n",
    "    ATA = A.T.dot(A) \n",
    "    ATb = A.T.dot(b)\n",
    "    max_repetitions = 5 # Broj koliko puta ćemo dopustiti da se skup P ponovi \n",
    "    \n",
    "    P = np.zeros(n,dtype=bool) # Boolean indexing za dodatnu efikasnost\n",
    "    P[P_initial] = True \n",
    "    x = np.zeros(n)\n",
    "    w = ATb - (ATA).dot(x) # Gradijentni vektor računamo ovako\n",
    "    s = np.zeros(n)\n",
    "    no_update = 0 \n",
    "    \n",
    "    if P_initial.shape[0] != 0:\n",
    "\n",
    "        s[P] = np.linalg.inv((ATA)[P][:,P]).dot((ATb)[P])\n",
    "        x = s.clip(min=0)\n",
    "    \n",
    "    \n",
    "    while (not np.all(P)) and np.max(w[~P]) > epsilon:\n",
    "        current_P = P.copy()\n",
    "        \n",
    "        P[np.argmax(w * ~P)] = True\n",
    "        \n",
    "        s[P] = np.linalg.inv((ATA)[P][:,P]).dot((ATb)[P]) # s računamo ovako\n",
    "        \n",
    "        if np.any(P) and np.min(s[P]) <= epsilon:\n",
    "            s,x,P = inner_loop(ATA,ATb,s,x,P,epsilon)\n",
    "    \n",
    "        x = s.copy()\n",
    "        \n",
    "        w=ATb - (ATA).dot(x)\n",
    "        \n",
    "        if(np.all(current_P == P)):\n",
    "            no_update +=1\n",
    "        else:\n",
    "            no_update = 0\n",
    "            \n",
    "        if no_update >= max_repetitions: # Ukoliko smo dostigli limit izlazimo iz petlje\n",
    "            break\n",
    "            \n",
    "    res = np.linalg.norm(b-A.dot(x)) # ||b-Ax||\n",
    "    \n",
    "    return [x,res]\n",
    "\n",
    "def inner_loop(ATA,ATb,s,x,P,epsilon): # U ovu petlju se jako retko ulazi u praksi,\n",
    "    # u proseku u 1.41% slucajeva\n",
    "    q = P * (s<=epsilon)\n",
    "    alpha = np.min(x[q]/ (x[q]-s[q]))\n",
    "    \n",
    "    x = x+alpha*(s-x)\n",
    "    \n",
    "    P[x<=epsilon] = False\n",
    "    \n",
    "    s[P] = np.linalg.inv((ATA)[P][:,P]).dot((ATb)[P])\n",
    "    \n",
    "    s[~P] = 0\n",
    "    \n",
    "    return s,x,P"
   ]
  },
  {
   "cell_type": "markdown",
   "id": "c3be9261",
   "metadata": {},
   "source": [
    "**Primer:**"
   ]
  },
  {
   "cell_type": "code",
   "execution_count": 7,
   "id": "10f32daa",
   "metadata": {},
   "outputs": [],
   "source": [
    "from time import time"
   ]
  },
  {
   "cell_type": "code",
   "execution_count": 12,
   "id": "59940cb2",
   "metadata": {},
   "outputs": [
    {
     "data": {
      "text/plain": [
       "0.0020754337310791016"
      ]
     },
     "execution_count": 12,
     "metadata": {},
     "output_type": "execute_result"
    }
   ],
   "source": [
    "np.random.seed(7)\n",
    "A = np.abs(np.random.rand(100,100))\n",
    "b = np.abs(np.random.rand(100))\n",
    "start = time()\n",
    "x,res= fnnls(A,b,10**-5)\n",
    "end = time()\n",
    "end - start # Vreme bez korišćenja initial support vektora"
   ]
  },
  {
   "cell_type": "code",
   "execution_count": 13,
   "id": "69a7cacd",
   "metadata": {},
   "outputs": [
    {
     "data": {
      "text/plain": [
       "0.0009930133819580078"
      ]
     },
     "execution_count": 13,
     "metadata": {},
     "output_type": "execute_result"
    }
   ],
   "source": [
    "support = np.nonzero(x)[0]\n",
    "start = time()\n",
    "x_sup, res = fnnls(A,b,10**-5,P_initial = support)\n",
    "end = time()\n",
    "end - start # Vreme sa korišćenjem initial support vektora"
   ]
  },
  {
   "cell_type": "markdown",
   "id": "8ca36270",
   "metadata": {},
   "source": [
    "Postoje i varijante FNNLS algoritma kao što su težinski FNNLS, gde se umesto matrica $A^TA$ i $A^Tb$ koriste $A^TVA$ i $A^TVb$, gde je $V$ dijagonalna matrica koja sadrži težine. Takođe, moguće je konstruisati i algoritam koji ne zahteva ne-negativnost svih komponenti rešenja, već samo nekog podskupa."
   ]
  },
  {
   "cell_type": "code",
   "execution_count": null,
   "id": "b0fa0e7d",
   "metadata": {},
   "outputs": [],
   "source": []
  },
  {
   "cell_type": "code",
   "execution_count": null,
   "id": "8eed28dc",
   "metadata": {},
   "outputs": [],
   "source": []
  }
 ],
 "metadata": {
  "kernelspec": {
   "display_name": "Python 3 (ipykernel)",
   "language": "python",
   "name": "python3"
  },
  "language_info": {
   "codemirror_mode": {
    "name": "ipython",
    "version": 3
   },
   "file_extension": ".py",
   "mimetype": "text/x-python",
   "name": "python",
   "nbconvert_exporter": "python",
   "pygments_lexer": "ipython3",
   "version": "3.9.13"
  }
 },
 "nbformat": 4,
 "nbformat_minor": 5
}
