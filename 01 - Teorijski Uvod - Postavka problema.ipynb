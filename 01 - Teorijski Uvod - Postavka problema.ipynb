{
 "cells": [
  {
   "cell_type": "markdown",
   "id": "704c9cdc-a43f-4909-9c6e-308b42fa4d8e",
   "metadata": {},
   "source": [
    "## Problem aproksimacije funkcije\n",
    "Na najvišem nivou rešavamo problem aproksimacije date funkcije, što bi značilo odrediti neku novu funkciju koja je njoj bliska u nekom unapred definisanom smislu. Motivacija za to je komplikovana upotreba date funkcije (pa se aproksimacijom pojednostavljuje - npr. zameni se polinomom), zatim data funkcija može imati neka nepoželjna matematička svojstva (npr. nije konveksna pa se zameni takvom) ili, što je najčešći razlog, vrednosti date funkcije su poznate samo na diskretnom skupu tačaka. \n",
    "\n",
    "#### Definisanje bliskosti dve funkcije\n",
    "Za datu funkciju može postojati više različitih funkcija koje je aproksimiraju pa se kriterijumi kvaliteta aproksimacije razlikuju u odnosu na ono što se aproksimacijom želi postići. Definicija bliskosti dve funkcije zavisi od izbora prostora u kome određujemo aproksimaciju - u našem slučaju bliskost definišemo unutar Hilbertovog prostora (kasnije: konkretno prostor L2[a,b])."
   ]
  },
  {
   "cell_type": "code",
   "execution_count": null,
   "id": "0c7e1871-9688-4cba-9573-4439072bb5ce",
   "metadata": {},
   "outputs": [],
   "source": []
  }
 ],
 "metadata": {
  "kernelspec": {
   "display_name": "Python 3 (ipykernel)",
   "language": "python",
   "name": "python3"
  },
  "language_info": {
   "codemirror_mode": {
    "name": "ipython",
    "version": 3
   },
   "file_extension": ".py",
   "mimetype": "text/x-python",
   "name": "python",
   "nbconvert_exporter": "python",
   "pygments_lexer": "ipython3",
   "version": "3.10.11"
  }
 },
 "nbformat": 4,
 "nbformat_minor": 5
}
